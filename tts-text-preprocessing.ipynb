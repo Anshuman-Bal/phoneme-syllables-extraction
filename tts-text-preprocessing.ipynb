{
 "cells": [
  {
   "cell_type": "markdown",
   "id": "8ff4b292-e589-4284-b460-76d85381dec1",
   "metadata": {},
   "source": [
    "### Installing Packages: "
   ]
  },
  {
   "cell_type": "code",
   "execution_count": 1,
   "id": "b106f037-326f-4dfc-b4e1-49b381615b15",
   "metadata": {
    "tags": []
   },
   "outputs": [
    {
     "name": "stdout",
     "output_type": "stream",
     "text": [
      "Requirement already satisfied: pandas in c:\\users\\hp\\appdata\\local\\programs\\python\\python39\\lib\\site-packages (1.4.4)\n",
      "Requirement already satisfied: python-dateutil>=2.8.1 in c:\\users\\hp\\appdata\\local\\programs\\python\\python39\\lib\\site-packages (from pandas) (2.8.2)\n",
      "Requirement already satisfied: numpy>=1.18.5 in c:\\users\\hp\\appdata\\local\\programs\\python\\python39\\lib\\site-packages (from pandas) (1.23.2)\n",
      "Requirement already satisfied: pytz>=2020.1 in c:\\users\\hp\\appdata\\local\\programs\\python\\python39\\lib\\site-packages (from pandas) (2022.2.1)\n",
      "Requirement already satisfied: six>=1.5 in c:\\users\\hp\\appdata\\local\\programs\\python\\python39\\lib\\site-packages (from python-dateutil>=2.8.1->pandas) (1.16.0)\n",
      "Note: you may need to restart the kernel to use updated packages.\n",
      "Requirement already satisfied: numpy in c:\\users\\hp\\appdata\\local\\programs\\python\\python39\\lib\\site-packages (1.23.2)\n",
      "Note: you may need to restart the kernel to use updated packages.\n",
      "Requirement already satisfied: pyphen in c:\\users\\hp\\appdata\\local\\programs\\python\\python39\\lib\\site-packages (0.13.2)\n",
      "Note: you may need to restart the kernel to use updated packages.\n",
      "Requirement already satisfied: pronouncing in c:\\users\\hp\\appdata\\local\\programs\\python\\python39\\lib\\site-packages (0.2.0)\n",
      "Requirement already satisfied: cmudict>=0.4.0 in c:\\users\\hp\\appdata\\local\\programs\\python\\python39\\lib\\site-packages (from pronouncing) (1.0.13)\n",
      "Requirement already satisfied: importlib-resources<6.0.0,>=5.10.1 in c:\\users\\hp\\appdata\\local\\programs\\python\\python39\\lib\\site-packages (from cmudict>=0.4.0->pronouncing) (5.10.2)\n",
      "Requirement already satisfied: importlib-metadata<6.0.0,>=5.1.0 in c:\\users\\hp\\appdata\\local\\programs\\python\\python39\\lib\\site-packages (from cmudict>=0.4.0->pronouncing) (5.2.0)\n",
      "Requirement already satisfied: zipp>=0.5 in c:\\users\\hp\\appdata\\local\\programs\\python\\python39\\lib\\site-packages (from importlib-metadata<6.0.0,>=5.1.0->cmudict>=0.4.0->pronouncing) (3.8.1)\n",
      "Note: you may need to restart the kernel to use updated packages.\n"
     ]
    }
   ],
   "source": [
    "%pip install pandas\n",
    "%pip install numpy\n",
    "%pip install pyphen\n",
    "%pip install pronouncing"
   ]
  },
  {
   "cell_type": "markdown",
   "id": "53894eaa-1fdf-4d13-bcff-31091fc9fc4a",
   "metadata": {},
   "source": [
    "### Importing packages : "
   ]
  },
  {
   "cell_type": "code",
   "execution_count": 2,
   "id": "9d6e4030-6772-4f5e-a736-b846166064cd",
   "metadata": {},
   "outputs": [],
   "source": [
    "import pandas as pd\n",
    "import numpy as np\n",
    "import pronouncing \n",
    "import pyphen"
   ]
  },
  {
   "cell_type": "markdown",
   "id": "59b3da86-3398-438c-9b9f-563e9eceb777",
   "metadata": {},
   "source": [
    "### Importing datasets : "
   ]
  },
  {
   "cell_type": "code",
   "execution_count": 3,
   "id": "991dccf1-cf95-4da5-b445-9adaa18dad66",
   "metadata": {
    "tags": []
   },
   "outputs": [],
   "source": [
    "# first dataframe\n",
    "df1 = pd.read_csv('common_words.csv')\n",
    "\n",
    "# second dataframe\n",
    "df2 = pd.read_csv('common_stopwords.csv')\n",
    "\n",
    "# combinging the frames together\n",
    "frames = [df1, df2]\n",
    "\n",
    "# merging both the datasets to a single dataframe\n",
    "df = pd.concat(frames)"
   ]
  },
  {
   "cell_type": "markdown",
   "id": "fa2c5c7e-3d52-4489-9143-4fcc229d624a",
   "metadata": {},
   "source": [
    "### Important Function Creations : "
   ]
  },
  {
   "cell_type": "markdown",
   "id": "2cd14d70-8916-482e-96a4-2edc37fc4b32",
   "metadata": {},
   "source": [
    "#### Phoneme extraction function :"
   ]
  },
  {
   "cell_type": "markdown",
   "id": "fbe8b971-edb6-45be-9cb6-392883cb7933",
   "metadata": {},
   "source": [
    "<div class=\"alert alert-block alert-info\">\n",
    "It is the process of converting written text into a sequence of phonemes, which are the basic units of sound in a language. This is a crucial step in text-to-speech (TTS) systems as it helps the TTS engine to generate speech sounds more accurately.\n",
    "</div>"
   ]
  },
  {
   "cell_type": "code",
   "execution_count": 4,
   "id": "1d17eb72-8498-4932-b221-48e2afbac8e7",
   "metadata": {},
   "outputs": [],
   "source": [
    "# this function extracts all the phonemes in string format\n",
    "# and returns the string in a list format\n",
    "def extract_phonemes(text):\n",
    "    \n",
    "    # splits the string into individual words\n",
    "    words = text.split()\n",
    "    \n",
    "    # empty list\n",
    "    phonemes = []\n",
    "    \n",
    "    # for every individual word in words\n",
    "    for word in words:\n",
    "        # appends the phoneme string to the empty list\n",
    "        phonemes.extend(pronouncing.phones_for_word(word))\n",
    "    return phonemes"
   ]
  },
  {
   "cell_type": "markdown",
   "id": "50c0ebb2-568d-48b3-924a-ef2f00145b7d",
   "metadata": {},
   "source": [
    "#### Syllable extraction function :"
   ]
  },
  {
   "cell_type": "markdown",
   "id": "5243784a-9bb3-4269-8e5f-b7559785f76b",
   "metadata": {},
   "source": [
    "<div class=\"alert alert-block alert-info\">\n",
    "It is the process of dividing a word into its syllables, which are units of sound that make up a word. Syllable extraction is useful in text-to-speech (TTS) systems as it can help to generate speech sounds more accurately.\n",
    "</div>"
   ]
  },
  {
   "cell_type": "code",
   "execution_count": 5,
   "id": "c093d9e3-f5b2-4943-bd98-700040b91529",
   "metadata": {},
   "outputs": [],
   "source": [
    "# this function extracts all the syllables in string format\n",
    "# and returns the string in a list format\n",
    "def extract_syllables(text):\n",
    "    \n",
    "    # pyphen initialization \n",
    "    dic = pyphen.Pyphen(lang='en')\n",
    "    \n",
    "    # splits the string into individual words\n",
    "    words = text.split()\n",
    "    \n",
    "    # empty list\n",
    "    syllables = []\n",
    "    \n",
    "    # for every individual word in words\n",
    "    for word in words:\n",
    "        # appends the phoneme string to the empty list\n",
    "        syllables.extend(dic.inserted(word).split(\"-\"))\n",
    "    return syllables"
   ]
  },
  {
   "cell_type": "markdown",
   "id": "34d9bfa2-3904-4fc6-85d0-bce4b120b7aa",
   "metadata": {},
   "source": [
    "### Zipping function : "
   ]
  },
  {
   "cell_type": "code",
   "execution_count": 6,
   "id": "21d08122-53df-41c8-917d-3d8e2fefd2d5",
   "metadata": {},
   "outputs": [],
   "source": [
    "# this function is used to zip both \n",
    "# phonemes and syllables returned into \n",
    "# a single list\n",
    "def extract(word):\n",
    "    \n",
    "    # empty lists\n",
    "    phonemes = []\n",
    "    syllables = []\n",
    "    \n",
    "    # pyphen initialization\n",
    "    # dic = pyphen.Pyphen(lang='en')\n",
    "    # phonemes.extend(pronouncing.phones_for_word(word))\n",
    "    # syllables.extend(dic.inserted(word).split(\"-\"))\n",
    "    \n",
    "    # phoneme extraction\n",
    "    phonemes = extract_phonemes(word)\n",
    "    \n",
    "    # syllables extraction\n",
    "    syllables = extract_syllables(word)\n",
    "    \n",
    "    # returns the zipped list\n",
    "    return ([phonemes, syllables])"
   ]
  },
  {
   "cell_type": "markdown",
   "id": "11f6657a-5b4a-4942-83f7-4836251c1d4b",
   "metadata": {},
   "source": [
    "### Main function : "
   ]
  },
  {
   "cell_type": "code",
   "execution_count": 7,
   "id": "ca469fce-180d-4442-9766-654806bc02fc",
   "metadata": {},
   "outputs": [],
   "source": [
    "# main function\n",
    "if __name__ == \"__main__\":\n",
    "    \n",
    "    # initialization of words to be added to \n",
    "    # new dataframe \n",
    "    words = df.iloc[:].values\n",
    "    \n",
    "    # empty lists to store returned data\n",
    "    list_of_words = []\n",
    "    list_of_phonemes = []\n",
    "    list_of_syllables = []\n",
    "    \n",
    "    # for every indiviual word in the list of words\n",
    "    for iword in words:\n",
    "        \n",
    "        # takes the string element\n",
    "        # instead of the list as whole\n",
    "        word = iword[0]\n",
    "        \n",
    "        # feature_extracted stores the zipped\n",
    "        # phonemes and syllables\n",
    "        feature_extracted = extract(word)\n",
    "        \n",
    "        # appending to new lists\n",
    "        list_of_words.append(iword.tolist())\n",
    "        list_of_phonemes.append(feature_extracted[0])\n",
    "        list_of_syllables.append(feature_extracted[1])\n",
    "    \n",
    "    # creating new dataframe to store the new features\n",
    "    new_df = pd.DataFrame(list(zip(list_of_words, list_of_phonemes, list_of_syllables)), columns =['Word', 'Phonemes', 'Syllables'])\n",
    "    \n",
    "    # converting the dataframe to a new csv file\n",
    "    new_df.to_csv('text-preprocessed.csv', index=False)"
   ]
  },
  {
   "cell_type": "code",
   "execution_count": null,
   "id": "338a8bf9-005d-4c61-8c98-9b32a9ec7aeb",
   "metadata": {},
   "outputs": [],
   "source": []
  }
 ],
 "metadata": {
  "kernelspec": {
   "display_name": "Python 3 (ipykernel)",
   "language": "python",
   "name": "python3"
  },
  "language_info": {
   "codemirror_mode": {
    "name": "ipython",
    "version": 3
   },
   "file_extension": ".py",
   "mimetype": "text/x-python",
   "name": "python",
   "nbconvert_exporter": "python",
   "pygments_lexer": "ipython3",
   "version": "3.9.5"
  }
 },
 "nbformat": 4,
 "nbformat_minor": 5
}
